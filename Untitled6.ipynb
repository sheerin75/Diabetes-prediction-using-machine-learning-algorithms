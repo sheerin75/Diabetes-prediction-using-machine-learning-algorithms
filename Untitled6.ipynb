{
  "nbformat": 4,
  "nbformat_minor": 0,
  "metadata": {
    "colab": {
      "name": "Untitled6.ipynb",
      "provenance": []
    },
    "kernelspec": {
      "name": "python3",
      "display_name": "Python 3"
    }
  },
  "cells": [
    {
      "cell_type": "code",
      "metadata": {
        "colab": {
          "base_uri": "https://localhost:8080/",
          "height": 370
        },
        "id": "nDjOtjnMHEBS",
        "outputId": "1770b003-db7a-4d12-8857-e13c9d51cf44"
      },
      "source": [
        "import numpy as np\r\n",
        "import matplotlib.pyplot as plt\r\n",
        "data = [[30, 25, 50, 20],\r\n",
        "[40, 23, 51, 17],\r\n",
        "[35, 22, 45, 19]]\r\n",
        "X = np.arange(4)\r\n",
        "print(X)\r\n",
        "fig = plt.figure()\r\n",
        "ax = fig.add_axes([0,0,1,1])\r\n",
        "ax.bar(X + 0.00, data[0], color = 'b', width = 0.25)\r\n",
        "ax.bar(X + 0.25, data[1], color = 'g', width = 0.25)\r\n",
        "ax.bar(X + 0.50, data[2], color = 'r', width = 0.25)"
      ],
      "execution_count": 3,
      "outputs": [
        {
          "output_type": "stream",
          "text": [
            "[0 1 2 3]\n"
          ],
          "name": "stdout"
        },
        {
          "output_type": "execute_result",
          "data": {
            "text/plain": [
              "<BarContainer object of 4 artists>"
            ]
          },
          "metadata": {
            "tags": []
          },
          "execution_count": 3
        },
        {
          "output_type": "display_data",
          "data": {
            "image/png": "[encoded data removed]",
            "text/plain": [
              "<Figure size 432x288 with 1 Axes>"
            ]
          },
          "metadata": {
            "tags": [],
            "needs_background": "light"
          }
        }
      ]
    },
    {
      "cell_type": "code",
      "metadata": {
        "colab": {
          "base_uri": "https://localhost:8080/"
        },
        "id": "RaBy0LV8HpYL",
        "outputId": "02896240-2880-44da-acc1-4178d10f11bc"
      },
      "source": [
        "print(X)"
      ],
      "execution_count": 4,
      "outputs": [
        {
          "output_type": "stream",
          "text": [
            "[0 1 2 3]\n"
          ],
          "name": "stdout"
        }
      ]
    },
    {
      "cell_type": "code",
      "metadata": {
        "colab": {
          "base_uri": "https://localhost:8080/"
        },
        "id": "UNy8fOWuIEeQ",
        "outputId": "ec424477-afc1-4422-911b-f9b723ab1a4a"
      },
      "source": [
        "print(X+0.00)"
      ],
      "execution_count": 5,
      "outputs": [
        {
          "output_type": "stream",
          "text": [
            "[0. 1. 2. 3.]\n"
          ],
          "name": "stdout"
        }
      ]
    },
    {
      "cell_type": "code",
      "metadata": {
        "colab": {
          "base_uri": "https://localhost:8080/",
          "height": 389
        },
        "id": "lh4F2ab-ITUx",
        "outputId": "e129beed-425f-47eb-9b2e-73dfaeeeff31"
      },
      "source": [
        "import numpy as np\r\n",
        "import matplotlib.pyplot as plt\r\n",
        "N = 2\r\n",
        "startups = (310,45)\r\n",
        "Technology_unicorn = (1,0)\r\n",
        "funding_growth=(20,100)\r\n",
        "Market_exploration= (49,260)\r\n",
        "ind = np.arange(N) # the x locations for the groups\r\n",
        "width = 0.35\r\n",
        "fig = plt.figure()\r\n",
        "ax = fig.add_axes([0,0,1,1])\r\n",
        "ax.bar(ind, startups, width, color='r')\r\n",
        "ax.bar(ind, Technology_unicorn, width,bottom=startups, color='b')\r\n",
        "ax.bar(ind, funding_growth, width,bottom=Technology_unicorn, color='g')\r\n",
        "ax.bar(ind, Market_exploration, width,bottom=funding_growth, color='y')\r\n",
        "ax.set_ylabel('fgvhbj')\r\n",
        "ax.set_title('Scores by group and gender')\r\n",
        "ax.set_xticks(ind, ('G1', 'G2', 'G3', 'G4', 'G5'))\r\n",
        "ax.set_yticks(np.arange(0, 81, 10))\r\n",
        "ax.legend(labels=['startups', 'Technology unicorn','funding growth','market exploration'])\r\n",
        "plt.show()"
      ],
      "execution_count": 11,
      "outputs": [
        {
          "output_type": "stream",
          "text": [
            "/usr/local/lib/python3.6/dist-packages/ipykernel_launcher.py:18: MatplotlibDeprecationWarning: Passing the minor parameter of set_xticks() positionally is deprecated since Matplotlib 3.2; the parameter will become keyword-only two minor releases later.\n"
          ],
          "name": "stderr"
        },
        {
          "output_type": "display_data",
          "data": {
            "image/png": "[encoded data removed]",
            "text/plain": [
              "<Figure size 432x288 with 1 Axes>"
            ]
          },
          "metadata": {
            "tags": [],
            "needs_background": "light"
          }
        }
      ]
    },
    {
      "cell_type": "code",
      "metadata": {
        "id": "9ADj4E_2Kkpa"
      },
      "source": [
        ""
      ],
      "execution_count": null,
      "outputs": []
    }
  ]
}